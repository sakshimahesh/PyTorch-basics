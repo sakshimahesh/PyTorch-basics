{
 "cells": [
  {
   "cell_type": "code",
   "execution_count": 9,
   "metadata": {},
   "outputs": [
    {
     "name": "stdout",
     "output_type": "stream",
     "text": [
      "tensor([ 0.3132, -0.8858, -0.5328], requires_grad=True)\n",
      "tensor([2.3132, 1.1142, 1.4672], grad_fn=<AddBackward0>)\n",
      "tensor(1.6315, grad_fn=<MeanBackward0>)\n"
     ]
    }
   ],
   "source": [
    "#basic operations in pytorch\n",
    "\n",
    "import torch\n",
    "\n",
    "x=torch.randn(3, requires_grad=True) #tensor of size 3, random n from std normal distribution( mean 0, variance 1)\n",
    "#requires_grad is used to indicate whether a tensor should be tracking operations that involve for automaticc diff\n",
    "#computes gradient of the outpt tensor if true\n",
    "\n",
    "print(x)\n",
    "\n",
    "y=x+2\n",
    "print(y)\n",
    "\n",
    "z=y.mean()\n",
    "print(z)"
   ]
  },
  {
   "cell_type": "code",
   "execution_count": 18,
   "metadata": {},
   "outputs": [
    {
     "name": "stdout",
     "output_type": "stream",
     "text": [
      "tensor([3., 3., 3., 3.])\n",
      "tensor([3., 3., 3., 3.])\n"
     ]
    }
   ],
   "source": [
    "#tensors\n",
    "#gradient descent\n",
    "\n",
    "w = torch.ones(4, requires_grad=True)\n",
    "\n",
    "for epoch in range (2):\n",
    "    model_output= (w*3).sum()\n",
    "    \n",
    "    model_output.backward() #backpropogation, computes gradients of a loss fn\n",
    "    #loss fn criterion like cross entropy or mean sqaured error\n",
    "    #graidents then used by optimizer called adam, SGD ie stochastic gradient descent etc\n",
    "    print(w.grad)\n",
    "    w.grad.zero_() #to empty gradients"
   ]
  },
  {
   "cell_type": "code",
   "execution_count": 25,
   "metadata": {},
   "outputs": [
    {
     "name": "stdout",
     "output_type": "stream",
     "text": [
      "tensor(1., grad_fn=<PowBackward0>)\n",
      "tensor(-2.)\n"
     ]
    }
   ],
   "source": [
    "#Backpropogation\n",
    "\n",
    "\n",
    "x=torch.tensor(1.0)\n",
    "y=torch.tensor(2.0)\n",
    "\n",
    "w = torch.tensor(1.0, requires_grad=True)\n",
    "#forward\n",
    "y_hat = w*x\n",
    "\n",
    "lossfn = (y_hat - y)**2\n",
    "\n",
    "print(lossfn)\n",
    "\n",
    "#backward pass\n",
    "lossfn.backward()\n",
    "print(w.grad) #first value after back propogation\n",
    "\n",
    "\n",
    "##### update weights\n",
    "\n",
    "\n"
   ]
  },
  {
   "cell_type": "code",
   "execution_count": 27,
   "metadata": {},
   "outputs": [
    {
     "name": "stdout",
     "output_type": "stream",
     "text": [
      "f(5) = {forward(5):.3f}\n",
      "epoch 20: w=2.000, loss=0.00000000\n"
     ]
    }
   ],
   "source": [
    "# implementing simple linear regression and manula graident calculation\n",
    "import numpy as np\n",
    "\n",
    "### f= w*x\n",
    "# f=2*x\n",
    "\n",
    "x=np.array([1,2,3,4,], dtype=np.float32)\n",
    "y=np.array([2,4,6,8,], dtype=np.float32)\n",
    "w=0.0\n",
    "\n",
    "#model prediction\n",
    "\n",
    "def forwardfn(x):\n",
    "    return w*x #y_predicted\n",
    "\n",
    "#calc  loss = MSE\n",
    "def loss(y, y_predicted): #model output\n",
    "    return ((y_predicted - y)**2).mean()\n",
    "\n",
    "#calculate gradients manually using formuala\n",
    "#MSE = 1/N * (w*x - y)**2\n",
    "#erivtitive is 1/N 2x (w*x - y)\n",
    "def gradient(x, y, y_predited): #dependent on x,y , y_predicted\n",
    "    return np.dot(2*x, y_predited - y).mean()\n",
    "\n",
    "\n",
    "# predictions before training\n",
    "\n",
    "print('f(5) = {forward(5):.3f}')\n",
    "\n",
    "learning_rate = 0.01\n",
    "iterations = 20\n",
    "\n",
    "for epoch in range(iterations):\n",
    "    #forward pass\n",
    "    y_pred =  forwardfn(x)\n",
    "    \n",
    "    l = loss(y, y_pred)\n",
    "    \n",
    "    dw = gradient(x,y,y_pred)\n",
    "    \n",
    "    w-= learning_rate*dw\n",
    "\n",
    "\n",
    "if epoch %1 ==0:\n",
    "    print(f'epoch {epoch+1}: w={w:.3f}, loss={l:.8f}')\n",
    "\n"
   ]
  }
 ],
 "metadata": {
  "kernelspec": {
   "display_name": "pytorch",
   "language": "python",
   "name": "python3"
  },
  "language_info": {
   "codemirror_mode": {
    "name": "ipython",
    "version": 3
   },
   "file_extension": ".py",
   "mimetype": "text/x-python",
   "name": "python",
   "nbconvert_exporter": "python",
   "pygments_lexer": "ipython3",
   "version": "3.12.3"
  }
 },
 "nbformat": 4,
 "nbformat_minor": 2
}
